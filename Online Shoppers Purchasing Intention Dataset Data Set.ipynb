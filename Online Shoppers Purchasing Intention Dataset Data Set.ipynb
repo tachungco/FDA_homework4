{
 "cells": [
  {
   "cell_type": "markdown",
   "metadata": {},
   "source": [
    "# FDA_HOMEWORK 4\n",
    "by H54046070_交管108_張仲宇"
   ]
  },
  {
   "cell_type": "markdown",
   "metadata": {},
   "source": [
    "---\n",
    "---\n",
    "### 目錄\n",
    "1. 介紹\n",
    "2. 資料分析與預處理\n",
    "3. 不同模型適配\n",
    "   - Linear Regression\n",
    "   - Ridge Regression\n",
    "   - Random Forest\n",
    "   - Logistic Regression\n",
    "   - SVM\n",
    "   - Neural Network\n",
    "4. 使用Lasso挑選變數\n",
    "   - Lasso\n",
    "   - Random Forest\n",
    "   - SVM\n",
    "5. 總結\n",
    "---\n",
    "---"
   ]
  },
  {
   "cell_type": "markdown",
   "metadata": {},
   "source": [
    "## 1. 介紹\n",
    "\n",
    "這份練習使用加州大學爾灣分校（UCI）所提供，開放給大眾練習機器學習方法的資料集。<br />\n",
    "過程中將先從資料集的了解、預處理開始，逐步使用不同機器學習方法去了解資料、運用資料， <br />\n",
    "最終目的為找出一個最精準的方法來預測結果。 <br />\n",
    "\n",
    "---\n",
    "---\n",
    "\n",
    "\n",
    "## 2. 資料分析與預處理\n",
    "\n",
    "這邊使用[\"Online Shoppers Purchasing Intention Dataset Data Set\"](https://archive.ics.uci.edu/ml/datasets/Online+Shoppers+Purchasing+Intention+Dataset)這組資料來做練習。 <br />\n",
    "\n",
    "根據網站的說明，這份資料包含了12,330筆消費行為(session)，消費行為來自不同使用者，同一個使用者一年內的消費行為只會出現一次，<br />\n",
    "藉此來避免出現任何與使用者資料、特殊節日有關的特別趨勢。"
   ]
  },
  {
   "cell_type": "markdown",
   "metadata": {},
   "source": [
    "---\n",
    "### 檢視資料\n",
    "首先載入資料，並印出前幾列來看看資料裡有哪些變數："
   ]
  },
  {
   "cell_type": "code",
   "execution_count": 1,
   "metadata": {},
   "outputs": [],
   "source": [
    "import pandas as pd\n",
    "import numpy as np\n",
    "import time\n",
    "start_time = time.time()"
   ]
  },
  {
   "cell_type": "code",
   "execution_count": 2,
   "metadata": {},
   "outputs": [
    {
     "data": {
      "text/html": [
       "<div>\n",
       "<style scoped>\n",
       "    .dataframe tbody tr th:only-of-type {\n",
       "        vertical-align: middle;\n",
       "    }\n",
       "\n",
       "    .dataframe tbody tr th {\n",
       "        vertical-align: top;\n",
       "    }\n",
       "\n",
       "    .dataframe thead th {\n",
       "        text-align: right;\n",
       "    }\n",
       "</style>\n",
       "<table border=\"1\" class=\"dataframe\">\n",
       "  <thead>\n",
       "    <tr style=\"text-align: right;\">\n",
       "      <th></th>\n",
       "      <th>Administrative</th>\n",
       "      <th>Administrative_Duration</th>\n",
       "      <th>Informational</th>\n",
       "      <th>Informational_Duration</th>\n",
       "      <th>ProductRelated</th>\n",
       "      <th>ProductRelated_Duration</th>\n",
       "      <th>BounceRates</th>\n",
       "      <th>ExitRates</th>\n",
       "      <th>PageValues</th>\n",
       "      <th>SpecialDay</th>\n",
       "      <th>Month</th>\n",
       "      <th>OperatingSystems</th>\n",
       "      <th>Browser</th>\n",
       "      <th>Region</th>\n",
       "      <th>TrafficType</th>\n",
       "      <th>VisitorType</th>\n",
       "      <th>Weekend</th>\n",
       "      <th>Revenue</th>\n",
       "    </tr>\n",
       "  </thead>\n",
       "  <tbody>\n",
       "    <tr>\n",
       "      <th>0</th>\n",
       "      <td>0</td>\n",
       "      <td>0.0</td>\n",
       "      <td>0</td>\n",
       "      <td>0.0</td>\n",
       "      <td>1</td>\n",
       "      <td>0.000000</td>\n",
       "      <td>0.20</td>\n",
       "      <td>0.20</td>\n",
       "      <td>0.0</td>\n",
       "      <td>0.0</td>\n",
       "      <td>Feb</td>\n",
       "      <td>1</td>\n",
       "      <td>1</td>\n",
       "      <td>1</td>\n",
       "      <td>1</td>\n",
       "      <td>Returning_Visitor</td>\n",
       "      <td>False</td>\n",
       "      <td>False</td>\n",
       "    </tr>\n",
       "    <tr>\n",
       "      <th>1</th>\n",
       "      <td>0</td>\n",
       "      <td>0.0</td>\n",
       "      <td>0</td>\n",
       "      <td>0.0</td>\n",
       "      <td>2</td>\n",
       "      <td>64.000000</td>\n",
       "      <td>0.00</td>\n",
       "      <td>0.10</td>\n",
       "      <td>0.0</td>\n",
       "      <td>0.0</td>\n",
       "      <td>Feb</td>\n",
       "      <td>2</td>\n",
       "      <td>2</td>\n",
       "      <td>1</td>\n",
       "      <td>2</td>\n",
       "      <td>Returning_Visitor</td>\n",
       "      <td>False</td>\n",
       "      <td>False</td>\n",
       "    </tr>\n",
       "    <tr>\n",
       "      <th>2</th>\n",
       "      <td>0</td>\n",
       "      <td>0.0</td>\n",
       "      <td>0</td>\n",
       "      <td>0.0</td>\n",
       "      <td>1</td>\n",
       "      <td>0.000000</td>\n",
       "      <td>0.20</td>\n",
       "      <td>0.20</td>\n",
       "      <td>0.0</td>\n",
       "      <td>0.0</td>\n",
       "      <td>Feb</td>\n",
       "      <td>4</td>\n",
       "      <td>1</td>\n",
       "      <td>9</td>\n",
       "      <td>3</td>\n",
       "      <td>Returning_Visitor</td>\n",
       "      <td>False</td>\n",
       "      <td>False</td>\n",
       "    </tr>\n",
       "    <tr>\n",
       "      <th>3</th>\n",
       "      <td>0</td>\n",
       "      <td>0.0</td>\n",
       "      <td>0</td>\n",
       "      <td>0.0</td>\n",
       "      <td>2</td>\n",
       "      <td>2.666667</td>\n",
       "      <td>0.05</td>\n",
       "      <td>0.14</td>\n",
       "      <td>0.0</td>\n",
       "      <td>0.0</td>\n",
       "      <td>Feb</td>\n",
       "      <td>3</td>\n",
       "      <td>2</td>\n",
       "      <td>2</td>\n",
       "      <td>4</td>\n",
       "      <td>Returning_Visitor</td>\n",
       "      <td>False</td>\n",
       "      <td>False</td>\n",
       "    </tr>\n",
       "    <tr>\n",
       "      <th>4</th>\n",
       "      <td>0</td>\n",
       "      <td>0.0</td>\n",
       "      <td>0</td>\n",
       "      <td>0.0</td>\n",
       "      <td>10</td>\n",
       "      <td>627.500000</td>\n",
       "      <td>0.02</td>\n",
       "      <td>0.05</td>\n",
       "      <td>0.0</td>\n",
       "      <td>0.0</td>\n",
       "      <td>Feb</td>\n",
       "      <td>3</td>\n",
       "      <td>3</td>\n",
       "      <td>1</td>\n",
       "      <td>4</td>\n",
       "      <td>Returning_Visitor</td>\n",
       "      <td>True</td>\n",
       "      <td>False</td>\n",
       "    </tr>\n",
       "  </tbody>\n",
       "</table>\n",
       "</div>"
      ],
      "text/plain": [
       "   Administrative  Administrative_Duration  Informational  \\\n",
       "0               0                      0.0              0   \n",
       "1               0                      0.0              0   \n",
       "2               0                      0.0              0   \n",
       "3               0                      0.0              0   \n",
       "4               0                      0.0              0   \n",
       "\n",
       "   Informational_Duration  ProductRelated  ProductRelated_Duration  \\\n",
       "0                     0.0               1                 0.000000   \n",
       "1                     0.0               2                64.000000   \n",
       "2                     0.0               1                 0.000000   \n",
       "3                     0.0               2                 2.666667   \n",
       "4                     0.0              10               627.500000   \n",
       "\n",
       "   BounceRates  ExitRates  PageValues  SpecialDay Month  OperatingSystems  \\\n",
       "0         0.20       0.20         0.0         0.0   Feb                 1   \n",
       "1         0.00       0.10         0.0         0.0   Feb                 2   \n",
       "2         0.20       0.20         0.0         0.0   Feb                 4   \n",
       "3         0.05       0.14         0.0         0.0   Feb                 3   \n",
       "4         0.02       0.05         0.0         0.0   Feb                 3   \n",
       "\n",
       "   Browser  Region  TrafficType        VisitorType  Weekend  Revenue  \n",
       "0        1       1            1  Returning_Visitor    False    False  \n",
       "1        2       1            2  Returning_Visitor    False    False  \n",
       "2        1       9            3  Returning_Visitor    False    False  \n",
       "3        2       2            4  Returning_Visitor    False    False  \n",
       "4        3       1            4  Returning_Visitor     True    False  "
      ]
     },
     "execution_count": 2,
     "metadata": {},
     "output_type": "execute_result"
    }
   ],
   "source": [
    "df = pd.read_csv(\"online_shoppers_intention.csv\")\n",
    "df.head()"
   ]
  },
  {
   "cell_type": "markdown",
   "metadata": {},
   "source": [
    "<br />\n",
    "<br />\n",
    "使用info看一下變數的值、是否有空值、變數類別："
   ]
  },
  {
   "cell_type": "code",
   "execution_count": 3,
   "metadata": {
    "scrolled": false
   },
   "outputs": [
    {
     "name": "stdout",
     "output_type": "stream",
     "text": [
      "<class 'pandas.core.frame.DataFrame'>\n",
      "RangeIndex: 12330 entries, 0 to 12329\n",
      "Data columns (total 18 columns):\n",
      "Administrative             12330 non-null int64\n",
      "Administrative_Duration    12330 non-null float64\n",
      "Informational              12330 non-null int64\n",
      "Informational_Duration     12330 non-null float64\n",
      "ProductRelated             12330 non-null int64\n",
      "ProductRelated_Duration    12330 non-null float64\n",
      "BounceRates                12330 non-null float64\n",
      "ExitRates                  12330 non-null float64\n",
      "PageValues                 12330 non-null float64\n",
      "SpecialDay                 12330 non-null float64\n",
      "Month                      12330 non-null object\n",
      "OperatingSystems           12330 non-null int64\n",
      "Browser                    12330 non-null int64\n",
      "Region                     12330 non-null int64\n",
      "TrafficType                12330 non-null int64\n",
      "VisitorType                12330 non-null object\n",
      "Weekend                    12330 non-null bool\n",
      "Revenue                    12330 non-null bool\n",
      "dtypes: bool(2), float64(7), int64(7), object(2)\n",
      "memory usage: 1.5+ MB\n"
     ]
    }
   ],
   "source": [
    "df.info()"
   ]
  },
  {
   "cell_type": "markdown",
   "metadata": {},
   "source": [
    "這邊可以看到這筆資料共有12330筆，18個變數。 <br />\n",
    "也可以看到每一個變數的資料型態，在這之中沒有NA值。"
   ]
  },
  {
   "cell_type": "markdown",
   "metadata": {},
   "source": [
    "<br />\n",
    "<br />\n",
    "使用describe先看一下這個資料大概的分佈："
   ]
  },
  {
   "cell_type": "code",
   "execution_count": 4,
   "metadata": {},
   "outputs": [
    {
     "data": {
      "text/html": [
       "<div>\n",
       "<style scoped>\n",
       "    .dataframe tbody tr th:only-of-type {\n",
       "        vertical-align: middle;\n",
       "    }\n",
       "\n",
       "    .dataframe tbody tr th {\n",
       "        vertical-align: top;\n",
       "    }\n",
       "\n",
       "    .dataframe thead th {\n",
       "        text-align: right;\n",
       "    }\n",
       "</style>\n",
       "<table border=\"1\" class=\"dataframe\">\n",
       "  <thead>\n",
       "    <tr style=\"text-align: right;\">\n",
       "      <th></th>\n",
       "      <th>Administrative</th>\n",
       "      <th>Administrative_Duration</th>\n",
       "      <th>Informational</th>\n",
       "      <th>Informational_Duration</th>\n",
       "      <th>ProductRelated</th>\n",
       "      <th>ProductRelated_Duration</th>\n",
       "      <th>BounceRates</th>\n",
       "      <th>ExitRates</th>\n",
       "      <th>PageValues</th>\n",
       "      <th>SpecialDay</th>\n",
       "      <th>OperatingSystems</th>\n",
       "      <th>Browser</th>\n",
       "      <th>Region</th>\n",
       "      <th>TrafficType</th>\n",
       "    </tr>\n",
       "  </thead>\n",
       "  <tbody>\n",
       "    <tr>\n",
       "      <th>count</th>\n",
       "      <td>12330.000000</td>\n",
       "      <td>12330.000000</td>\n",
       "      <td>12330.000000</td>\n",
       "      <td>12330.000000</td>\n",
       "      <td>12330.000000</td>\n",
       "      <td>12330.000000</td>\n",
       "      <td>12330.000000</td>\n",
       "      <td>12330.000000</td>\n",
       "      <td>12330.000000</td>\n",
       "      <td>12330.000000</td>\n",
       "      <td>12330.000000</td>\n",
       "      <td>12330.000000</td>\n",
       "      <td>12330.000000</td>\n",
       "      <td>12330.000000</td>\n",
       "    </tr>\n",
       "    <tr>\n",
       "      <th>mean</th>\n",
       "      <td>2.315166</td>\n",
       "      <td>80.818611</td>\n",
       "      <td>0.503569</td>\n",
       "      <td>34.472398</td>\n",
       "      <td>31.731468</td>\n",
       "      <td>1194.746220</td>\n",
       "      <td>0.022191</td>\n",
       "      <td>0.043073</td>\n",
       "      <td>5.889258</td>\n",
       "      <td>0.061427</td>\n",
       "      <td>2.124006</td>\n",
       "      <td>2.357097</td>\n",
       "      <td>3.147364</td>\n",
       "      <td>4.069586</td>\n",
       "    </tr>\n",
       "    <tr>\n",
       "      <th>std</th>\n",
       "      <td>3.321784</td>\n",
       "      <td>176.779107</td>\n",
       "      <td>1.270156</td>\n",
       "      <td>140.749294</td>\n",
       "      <td>44.475503</td>\n",
       "      <td>1913.669288</td>\n",
       "      <td>0.048488</td>\n",
       "      <td>0.048597</td>\n",
       "      <td>18.568437</td>\n",
       "      <td>0.198917</td>\n",
       "      <td>0.911325</td>\n",
       "      <td>1.717277</td>\n",
       "      <td>2.401591</td>\n",
       "      <td>4.025169</td>\n",
       "    </tr>\n",
       "    <tr>\n",
       "      <th>min</th>\n",
       "      <td>0.000000</td>\n",
       "      <td>0.000000</td>\n",
       "      <td>0.000000</td>\n",
       "      <td>0.000000</td>\n",
       "      <td>0.000000</td>\n",
       "      <td>0.000000</td>\n",
       "      <td>0.000000</td>\n",
       "      <td>0.000000</td>\n",
       "      <td>0.000000</td>\n",
       "      <td>0.000000</td>\n",
       "      <td>1.000000</td>\n",
       "      <td>1.000000</td>\n",
       "      <td>1.000000</td>\n",
       "      <td>1.000000</td>\n",
       "    </tr>\n",
       "    <tr>\n",
       "      <th>25%</th>\n",
       "      <td>0.000000</td>\n",
       "      <td>0.000000</td>\n",
       "      <td>0.000000</td>\n",
       "      <td>0.000000</td>\n",
       "      <td>7.000000</td>\n",
       "      <td>184.137500</td>\n",
       "      <td>0.000000</td>\n",
       "      <td>0.014286</td>\n",
       "      <td>0.000000</td>\n",
       "      <td>0.000000</td>\n",
       "      <td>2.000000</td>\n",
       "      <td>2.000000</td>\n",
       "      <td>1.000000</td>\n",
       "      <td>2.000000</td>\n",
       "    </tr>\n",
       "    <tr>\n",
       "      <th>50%</th>\n",
       "      <td>1.000000</td>\n",
       "      <td>7.500000</td>\n",
       "      <td>0.000000</td>\n",
       "      <td>0.000000</td>\n",
       "      <td>18.000000</td>\n",
       "      <td>598.936905</td>\n",
       "      <td>0.003112</td>\n",
       "      <td>0.025156</td>\n",
       "      <td>0.000000</td>\n",
       "      <td>0.000000</td>\n",
       "      <td>2.000000</td>\n",
       "      <td>2.000000</td>\n",
       "      <td>3.000000</td>\n",
       "      <td>2.000000</td>\n",
       "    </tr>\n",
       "    <tr>\n",
       "      <th>75%</th>\n",
       "      <td>4.000000</td>\n",
       "      <td>93.256250</td>\n",
       "      <td>0.000000</td>\n",
       "      <td>0.000000</td>\n",
       "      <td>38.000000</td>\n",
       "      <td>1464.157213</td>\n",
       "      <td>0.016813</td>\n",
       "      <td>0.050000</td>\n",
       "      <td>0.000000</td>\n",
       "      <td>0.000000</td>\n",
       "      <td>3.000000</td>\n",
       "      <td>2.000000</td>\n",
       "      <td>4.000000</td>\n",
       "      <td>4.000000</td>\n",
       "    </tr>\n",
       "    <tr>\n",
       "      <th>max</th>\n",
       "      <td>27.000000</td>\n",
       "      <td>3398.750000</td>\n",
       "      <td>24.000000</td>\n",
       "      <td>2549.375000</td>\n",
       "      <td>705.000000</td>\n",
       "      <td>63973.522230</td>\n",
       "      <td>0.200000</td>\n",
       "      <td>0.200000</td>\n",
       "      <td>361.763742</td>\n",
       "      <td>1.000000</td>\n",
       "      <td>8.000000</td>\n",
       "      <td>13.000000</td>\n",
       "      <td>9.000000</td>\n",
       "      <td>20.000000</td>\n",
       "    </tr>\n",
       "  </tbody>\n",
       "</table>\n",
       "</div>"
      ],
      "text/plain": [
       "       Administrative  Administrative_Duration  Informational  \\\n",
       "count    12330.000000             12330.000000   12330.000000   \n",
       "mean         2.315166                80.818611       0.503569   \n",
       "std          3.321784               176.779107       1.270156   \n",
       "min          0.000000                 0.000000       0.000000   \n",
       "25%          0.000000                 0.000000       0.000000   \n",
       "50%          1.000000                 7.500000       0.000000   \n",
       "75%          4.000000                93.256250       0.000000   \n",
       "max         27.000000              3398.750000      24.000000   \n",
       "\n",
       "       Informational_Duration  ProductRelated  ProductRelated_Duration  \\\n",
       "count            12330.000000    12330.000000             12330.000000   \n",
       "mean                34.472398       31.731468              1194.746220   \n",
       "std                140.749294       44.475503              1913.669288   \n",
       "min                  0.000000        0.000000                 0.000000   \n",
       "25%                  0.000000        7.000000               184.137500   \n",
       "50%                  0.000000       18.000000               598.936905   \n",
       "75%                  0.000000       38.000000              1464.157213   \n",
       "max               2549.375000      705.000000             63973.522230   \n",
       "\n",
       "        BounceRates     ExitRates    PageValues    SpecialDay  \\\n",
       "count  12330.000000  12330.000000  12330.000000  12330.000000   \n",
       "mean       0.022191      0.043073      5.889258      0.061427   \n",
       "std        0.048488      0.048597     18.568437      0.198917   \n",
       "min        0.000000      0.000000      0.000000      0.000000   \n",
       "25%        0.000000      0.014286      0.000000      0.000000   \n",
       "50%        0.003112      0.025156      0.000000      0.000000   \n",
       "75%        0.016813      0.050000      0.000000      0.000000   \n",
       "max        0.200000      0.200000    361.763742      1.000000   \n",
       "\n",
       "       OperatingSystems       Browser        Region   TrafficType  \n",
       "count      12330.000000  12330.000000  12330.000000  12330.000000  \n",
       "mean           2.124006      2.357097      3.147364      4.069586  \n",
       "std            0.911325      1.717277      2.401591      4.025169  \n",
       "min            1.000000      1.000000      1.000000      1.000000  \n",
       "25%            2.000000      2.000000      1.000000      2.000000  \n",
       "50%            2.000000      2.000000      3.000000      2.000000  \n",
       "75%            3.000000      2.000000      4.000000      4.000000  \n",
       "max            8.000000     13.000000      9.000000     20.000000  "
      ]
     },
     "execution_count": 4,
     "metadata": {},
     "output_type": "execute_result"
    }
   ],
   "source": [
    "df.describe()"
   ]
  },
  {
   "cell_type": "code",
   "execution_count": 5,
   "metadata": {},
   "outputs": [
    {
     "name": "stdout",
     "output_type": "stream",
     "text": [
      "Returning_Visitor    10551\n",
      "New_Visitor           1694\n",
      "Other                   85\n",
      "Name: VisitorType, dtype: int64 \n",
      " \n",
      "\n",
      "False    9462\n",
      "True     2868\n",
      "Name: Weekend, dtype: int64\n"
     ]
    }
   ],
   "source": [
    "print(df['VisitorType'].value_counts(), '\\n \\n')\n",
    "print(df['Weekend'].value_counts())"
   ]
  },
  {
   "cell_type": "markdown",
   "metadata": {},
   "source": [
    "---\n",
    "### 變數說明\n",
    "\n",
    "網頁上對於變數的解說有點模糊，不過以下會依照上面檢視資料所得的以及我自己的理解打出來，可能會有錯。\n",
    "\n",
    "- 以下幾個變數是關於消費者網頁瀏覽行為的，共有三類（但也沒說清楚）。例如消費者開啟一個網頁或是從一個網頁點到另一個網頁，都會被記錄下來。（好恐怖）\n",
    " - **Administrative**：\n",
    " - **Administrative Duration**：\n",
    " - **Informational**：\n",
    " - **Informational Duration**：\n",
    " - **Product Related**：和產品相關的網頁\n",
    " - **Product Related Duration**：瀏覽和產品相關網頁的時間\n",
    " \n",
    " \n",
    "- 以下幾個變數是由\"Google Analytics\"在電子商務網站所紀錄。\n",
    " - **Bounce Rate**：對於這個網頁，消費者從另一網頁進入到離開中間沒有觸發其他request的比例。\n",
    " - **Exit Rate**：對特定一個網頁的所有瀏覽者來說，在這筆消費行為中停留的比例。\n",
    " - **Page Value**：這個網頁在一個消費者完成一個電子商務動作前被瀏覽的平均值。\n",
    "\n",
    " - **Special Day**：跟消費者訪問網頁距離特殊節日的時間點有關，代表更高的商業行為可能性。這個屬性值是由動態的電子商務行為決定的，例如這個值在情人節之前的02/02~02/12不會是0，在這個區間之前或之後為0，除非又鄰近下個節日，而且最大值1出現在02/08。\n",
    " \n",
    " \n",
    "- 還有幾個類別變數：\n",
    " - **Month**：在幾月發生，他會直接寫出月份代號，如Feb。\n",
    " - **Operating Systems**：運行的系統，根據上面describe，最大到8。\n",
    " - **Browser**：瀏覽器，最大到13。\n",
    " - **Region**：地區，最大到9。\n",
    " - **Traffic Type**：最大到20。\n",
    " - **Visitor Type**：消費者的分類，共有3類，分別為\"Returning_Visitor\"、\"New_Visitor\"和\"Other\"。\n",
    " - **Weekend**：是否為週末，分成True/False兩類。\n",
    " - **Revenue**：是否消費，分成True/False兩類。這個也是**這次要預測的變數**。"
   ]
  },
  {
   "cell_type": "markdown",
   "metadata": {},
   "source": [
    "---\n",
    "\n",
    "既然Revenue為這次要預測的變數那就來看一下分佈情形："
   ]
  },
  {
   "cell_type": "code",
   "execution_count": 6,
   "metadata": {},
   "outputs": [
    {
     "name": "stdout",
     "output_type": "stream",
     "text": [
      "False    10422\n",
      "True      1908\n",
      "Name: Revenue, dtype: int64\n"
     ]
    }
   ],
   "source": [
    "print(df['Revenue'].value_counts())"
   ]
  },
  {
   "cell_type": "markdown",
   "metadata": {},
   "source": [
    "在全部12,330筆資料中，1908筆（84.5%）完成消費行為，其餘10422筆沒有完成消費行為。 <br />\n",
    "這個問題是一個分類的問題，藉由其他變數來預測這筆資料屬於哪一類。\n"
   ]
  },
  {
   "cell_type": "markdown",
   "metadata": {},
   "source": [
    "### 視覺化檢視\n",
    "接下來用視覺化的方式看看變數間有沒有存在什麼關係。"
   ]
  },
  {
   "cell_type": "code",
   "execution_count": 7,
   "metadata": {},
   "outputs": [],
   "source": [
    "import matplotlib.pyplot as plt\n",
    "import seaborn as sns\n",
    "%matplotlib inline"
   ]
  },
  {
   "cell_type": "markdown",
   "metadata": {},
   "source": [
    "---\n",
    "#### Countplot\n",
    "先用基本的countplot看一下類別的變數的分佈情形："
   ]
  },
  {
   "cell_type": "code",
   "execution_count": 8,
   "metadata": {},
   "outputs": [
    {
     "data": {
      "text/plain": [
       "<matplotlib.axes._subplots.AxesSubplot at 0x11ae7d860>"
      ]
     },
     "execution_count": 8,
     "metadata": {},
     "output_type": "execute_result"
    },
    {
     "data": {
      "image/png": "[encoded data removed]",
      "text/plain": [
       "<Figure size 1080x360 with 3 Axes>"
      ]
     },
     "metadata": {
      "needs_background": "light"
     },
     "output_type": "display_data"
    }
   ],
   "source": [
    "fig, ax = plt.subplots(1,3,figsize=(15, 5)) \n",
    "plt.tight_layout()\n",
    "sns.countplot(x=\"Month\", data=df,ax=ax[0])\n",
    "sns.countplot(x=\"OperatingSystems\", data=df,ax=ax[1])\n",
    "sns.countplot(x=\"Browser\", data=df,ax=ax[2])"
   ]
  },
  {
   "cell_type": "code",
   "execution_count": 9,
   "metadata": {},
   "outputs": [
    {
     "data": {
      "text/plain": [
       "<matplotlib.axes._subplots.AxesSubplot at 0x11b3aee48>"
      ]
     },
     "execution_count": 9,
     "metadata": {},
     "output_type": "execute_result"
    },
    {
     "data": {
      "image/png": "[encoded data removed]",
      "text/plain": [
       "<Figure size 1080x360 with 3 Axes>"
      ]
     },
     "metadata": {
      "needs_background": "light"
     },
     "output_type": "display_data"
    }
   ],
   "source": [
    "fig, ax = plt.subplots(1,3,figsize=(15, 5)) \n",
    "plt.tight_layout()\n",
    "sns.countplot(x=\"Region\", data=df,ax=ax[0])\n",
    "sns.countplot(x=\"TrafficType\", data=df,ax=ax[1])\n",
    "sns.countplot(x=\"VisitorType\", data=df,ax=ax[2])"
   ]
  },
  {
   "cell_type": "markdown",
   "metadata": {},
   "source": [
    "\n"
   ]
  },
  {
   "cell_type": "markdown",
   "metadata": {},
   "source": [
    "---\n",
    "#### Heatmap\n",
    "這邊用這筆資料的相關係數做heatmap檢視。"
   ]
  },
  {
   "cell_type": "code",
   "execution_count": 10,
   "metadata": {},
   "outputs": [
    {
     "data": {
      "text/plain": [
       "<matplotlib.axes._subplots.AxesSubplot at 0x110b0a2b0>"
      ]
     },
     "execution_count": 10,
     "metadata": {},
     "output_type": "execute_result"
    },
    {
     "data": {
      "image/png": "[encoded data removed]",
      "text/plain": [
       "<Figure size 1080x720 with 2 Axes>"
      ]
     },
     "metadata": {
      "needs_background": "light"
     },
     "output_type": "display_data"
    }
   ],
   "source": [
    "plt.figure(figsize=(15,10))\n",
    "sns.heatmap(df.corr(),linewidths=.5)"
   ]
  },
  {
   "cell_type": "markdown",
   "metadata": {},
   "source": [
    "兩個變數之間的顏色越接近黑色越負相關，越接近淺米色越正相關。 <br />\n",
    "\n",
    "從上面看來，(BounceRates, ExitRates)、(ProductRelated, ProductRelated_Duration)呈現比較高一點的正相關， <br />\n",
    "\n",
    "'BounceRates'、'ExitRates'和'Administrative', 'Administrative_Duration', 'Informational', 'Informational_Duration', 'ProductRelated', 'ProductRelated_Duration'這幾個網頁瀏覽相關變數呈現比較高的負相關。 <br />\n",
    "\n",
    "而我們要預測的變數'Revenue'，和'PageValues'的正相關性比較強，和'BounceRates'、'ExitRates'的負相關性比較強。"
   ]
  },
  {
   "cell_type": "markdown",
   "metadata": {},
   "source": [
    "---\n",
    "回到上面describe來看，前面6個變數**（Administrative, Administrative_Duration, Informational, Informational_Duration, ProductRelated, ProductRelated_Duration）**的分布有點廣，最大值和第三四分位數有一段距離。\n",
    "\n",
    "用boxplot看一下分佈範圍以及情況："
   ]
  },
  {
   "cell_type": "code",
   "execution_count": 11,
   "metadata": {},
   "outputs": [
    {
     "data": {
      "image/png": "[encoded data removed]",
      "text/plain": [
       "<Figure size 1080x720 with 6 Axes>"
      ]
     },
     "metadata": {
      "needs_background": "light"
     },
     "output_type": "display_data"
    }
   ],
   "source": [
    "fig, ax =plt.subplots(1,6, figsize=(15,10))\n",
    "plt.tight_layout()\n",
    "for i in range(6):\n",
    "    sns.boxplot(data=df.iloc[:,i], linewidth=1, ax=ax[i])"
   ]
  },
  {
   "cell_type": "markdown",
   "metadata": {},
   "source": [
    "每個變數的值大多都集中在較低的數值，但是分佈範圍卻很廣。 <br/>\n",
    "要不要當作離群值處理是個好問題。 <br/>\n",
    "先看看其他變數**（'BounceRates', 'ExitRates', 'PageValues', 'SpecialDay',）**的分佈情形吧："
   ]
  },
  {
   "cell_type": "code",
   "execution_count": 12,
   "metadata": {
    "scrolled": false
   },
   "outputs": [
    {
     "data": {
      "image/png": "[encoded data removed]",
      "text/plain": [
       "<Figure size 1080x720 with 4 Axes>"
      ]
     },
     "metadata": {
      "needs_background": "light"
     },
     "output_type": "display_data"
    }
   ],
   "source": [
    "fig, ax =plt.subplots(1,4, figsize=(15,10))\n",
    "plt.tight_layout()\n",
    "for i in range(6,10):\n",
    "    sns.boxplot(data=df.iloc[:,i], linewidth=1, ax=ax[i-6])"
   ]
  },
  {
   "cell_type": "markdown",
   "metadata": {},
   "source": [
    "---\n",
    "\n",
    "### 類別變數轉換"
   ]
  },
  {
   "cell_type": "markdown",
   "metadata": {},
   "source": [
    "將\"Weekend\"和\"Revenue\"兩個變數的布林值轉換成數字0/1："
   ]
  },
  {
   "cell_type": "code",
   "execution_count": 13,
   "metadata": {},
   "outputs": [],
   "source": [
    "df['Weekend'] = df.Weekend.astype('int')\n",
    "df['Revenue'] = df.Revenue.astype('int')"
   ]
  },
  {
   "cell_type": "markdown",
   "metadata": {},
   "source": [
    "<br />\n",
    "因為\"Month\"和\"VisitorType\"變數類別是object，接下來用get_dummies將他們變成dummy variable的one-hot編碼："
   ]
  },
  {
   "cell_type": "code",
   "execution_count": 14,
   "metadata": {},
   "outputs": [],
   "source": [
    "df = pd.get_dummies(df)"
   ]
  },
  {
   "cell_type": "code",
   "execution_count": 15,
   "metadata": {},
   "outputs": [
    {
     "name": "stdout",
     "output_type": "stream",
     "text": [
      "<class 'pandas.core.frame.DataFrame'>\n",
      "RangeIndex: 12330 entries, 0 to 12329\n",
      "Data columns (total 29 columns):\n",
      "Administrative                   12330 non-null int64\n",
      "Administrative_Duration          12330 non-null float64\n",
      "Informational                    12330 non-null int64\n",
      "Informational_Duration           12330 non-null float64\n",
      "ProductRelated                   12330 non-null int64\n",
      "ProductRelated_Duration          12330 non-null float64\n",
      "BounceRates                      12330 non-null float64\n",
      "ExitRates                        12330 non-null float64\n",
      "PageValues                       12330 non-null float64\n",
      "SpecialDay                       12330 non-null float64\n",
      "OperatingSystems                 12330 non-null int64\n",
      "Browser                          12330 non-null int64\n",
      "Region                           12330 non-null int64\n",
      "TrafficType                      12330 non-null int64\n",
      "Weekend                          12330 non-null int64\n",
      "Revenue                          12330 non-null int64\n",
      "Month_Aug                        12330 non-null uint8\n",
      "Month_Dec                        12330 non-null uint8\n",
      "Month_Feb                        12330 non-null uint8\n",
      "Month_Jul                        12330 non-null uint8\n",
      "Month_June                       12330 non-null uint8\n",
      "Month_Mar                        12330 non-null uint8\n",
      "Month_May                        12330 non-null uint8\n",
      "Month_Nov                        12330 non-null uint8\n",
      "Month_Oct                        12330 non-null uint8\n",
      "Month_Sep                        12330 non-null uint8\n",
      "VisitorType_New_Visitor          12330 non-null uint8\n",
      "VisitorType_Other                12330 non-null uint8\n",
      "VisitorType_Returning_Visitor    12330 non-null uint8\n",
      "dtypes: float64(7), int64(9), uint8(13)\n",
      "memory usage: 1.7 MB\n"
     ]
    }
   ],
   "source": [
    "df.info()"
   ]
  },
  {
   "cell_type": "markdown",
   "metadata": {},
   "source": [
    "到這邊所有的變數就都轉換成數字的型態了，之後會比較好處理。\n",
    "\n",
    "---\n",
    "---"
   ]
  },
  {
   "cell_type": "markdown",
   "metadata": {},
   "source": [
    "## 3. 不同模型適配"
   ]
  },
  {
   "cell_type": "markdown",
   "metadata": {},
   "source": [
    "對資料進行前處理後，正式進入重點，接下來將會利用不同的機器學習模型來進行適配，希望能找出一個高精準度的方法。\n",
    "\n",
    "---"
   ]
  },
  {
   "cell_type": "markdown",
   "metadata": {},
   "source": [
    "### 分割Training / Testing Set"
   ]
  },
  {
   "cell_type": "code",
   "execution_count": 16,
   "metadata": {},
   "outputs": [],
   "source": [
    "from sklearn.model_selection import train_test_split"
   ]
  },
  {
   "cell_type": "code",
   "execution_count": 17,
   "metadata": {},
   "outputs": [
    {
     "name": "stdout",
     "output_type": "stream",
     "text": [
      "Length of Training Set: 9247\n",
      "Length of Testing Set: 3083\n"
     ]
    }
   ],
   "source": [
    "x = df\n",
    "y = df['Revenue']\n",
    "x = x.drop(['Revenue'], axis = 1)\n",
    "x_train, x_test, y_train, y_test = train_test_split(x, y, test_size = 0.25, random_state = 1)\n",
    "\n",
    "print('Length of Training Set:', len(x_train))\n",
    "print('Length of Testing Set:', len(x_test))"
   ]
  },
  {
   "cell_type": "markdown",
   "metadata": {},
   "source": [
    "---\n",
    "先使用線性模型試試看。\n",
    "\n",
    "---\n",
    "### Linear Regression"
   ]
  },
  {
   "cell_type": "code",
   "execution_count": 18,
   "metadata": {},
   "outputs": [],
   "source": [
    "import numpy as np\n",
    "from sklearn import linear_model, metrics, model_selection"
   ]
  },
  {
   "cell_type": "code",
   "execution_count": 19,
   "metadata": {},
   "outputs": [
    {
     "name": "stdout",
     "output_type": "stream",
     "text": [
      "* Intercept: \n",
      " 0.11909739350802906\n",
      "* Coefficients: \n",
      " [ 1.33642113e-03 -1.01701888e-05  2.05681817e-03  1.28424564e-05\n",
      "  1.46534347e-04  1.28086117e-05  5.22752191e-01 -1.07978166e+00\n",
      "  9.23665791e-03 -1.73982686e-02 -6.67928168e-03  4.35036986e-03\n",
      " -6.24587811e-04 -5.78716525e-04  1.09961507e-02  4.95447680e-03\n",
      " -3.99392942e-02 -5.03625428e-02  2.27660213e-02 -1.11764678e-02\n",
      " -2.40179785e-02 -2.16266303e-02  7.72767340e-02  2.96038662e-02\n",
      "  1.25218153e-02  3.90071573e-02 -2.93887093e-02 -9.61844793e-03]\n",
      "* MSE: 0.091\n",
      "* R Square: 0.268\n"
     ]
    }
   ],
   "source": [
    "lm = linear_model.LinearRegression()\n",
    "lm.fit(x_train, y_train)\n",
    "y_pred = lm.predict(x_test)\n",
    "\n",
    "print('* Intercept: \\n', lm.intercept_ )\n",
    "print('* Coefficients: \\n', lm.coef_)\n",
    "\n",
    "print(\"* MSE: %.3f\"\n",
    "      % metrics.mean_squared_error(y_test, y_pred))\n",
    "\n",
    "print('* R Square: %.3f' % metrics.r2_score(y_test, y_pred))"
   ]
  },
  {
   "cell_type": "code",
   "execution_count": 20,
   "metadata": {},
   "outputs": [
    {
     "name": "stdout",
     "output_type": "stream",
     "text": [
      "neg MSE: -0.09478647074563198\n"
     ]
    }
   ],
   "source": [
    "lm = linear_model.LinearRegression()\n",
    "\n",
    "mse = model_selection.cross_val_score(lm, x_train, y_train, cv=10, scoring='neg_mean_squared_error')\n",
    "print('neg MSE:', mse.mean())"
   ]
  },
  {
   "cell_type": "markdown",
   "metadata": {},
   "source": [
    "---\n",
    "### Ridge Regression"
   ]
  },
  {
   "cell_type": "code",
   "execution_count": 21,
   "metadata": {},
   "outputs": [
    {
     "name": "stderr",
     "output_type": "stream",
     "text": [
      "/usr/local/lib/python3.7/site-packages/sklearn/linear_model/ridge.py:125: LinAlgWarning: Ill-conditioned matrix (rcond=1.36885e-23): result may not be accurate.\n",
      "  overwrite_a=True).T\n",
      "/usr/local/lib/python3.7/site-packages/sklearn/linear_model/ridge.py:125: LinAlgWarning: Ill-conditioned matrix (rcond=1.54402e-23): result may not be accurate.\n",
      "  overwrite_a=True).T\n",
      "/usr/local/lib/python3.7/site-packages/sklearn/linear_model/ridge.py:125: LinAlgWarning: Ill-conditioned matrix (rcond=1.2079e-23): result may not be accurate.\n",
      "  overwrite_a=True).T\n"
     ]
    },
    {
     "name": "stdout",
     "output_type": "stream",
     "text": [
      "Best Alpha: 0.05263157894736842\n"
     ]
    }
   ],
   "source": [
    "alpha_list = np.linspace(start=0, stop=0.5, num=20)\n",
    "\n",
    "reg = linear_model.RidgeCV(alphas=alpha_list, cv=10)\n",
    "reg.fit(x_train, y_train)\n",
    "\n",
    "best_alpha = reg.alpha_\n",
    "print('Best Alpha:', reg.alpha_ )"
   ]
  },
  {
   "cell_type": "code",
   "execution_count": 22,
   "metadata": {},
   "outputs": [
    {
     "name": "stdout",
     "output_type": "stream",
     "text": [
      "* Intercept: \n",
      " 0.11836975318981474\n",
      "* Coefficients: \n",
      " [ 1.35873453e-03 -1.00933732e-05  2.06133667e-03  1.28378359e-05\n",
      "  1.49574779e-04  1.27875492e-05  4.99323353e-01 -1.05416003e+00\n",
      "  9.23975813e-03 -1.75093027e-02 -6.66619983e-03  4.34369321e-03\n",
      " -6.21944438e-04 -5.79210782e-04  1.10313829e-02  4.94631681e-03\n",
      " -3.99276384e-02 -5.03807889e-02  2.27568420e-02 -1.12829907e-02\n",
      " -2.40185098e-02 -2.15954758e-02  7.72909762e-02  2.96436693e-02\n",
      "  1.25675993e-02  3.91493833e-02 -2.94665916e-02 -9.68279180e-03]\n",
      "* MSE: 0.091\n",
      "* R Square: 0.268\n"
     ]
    }
   ],
   "source": [
    "reg = linear_model.Ridge(alpha=best_alpha)\n",
    "reg.fit(x_train, y_train)\n",
    "\n",
    "y_pred = reg.predict(x_test)\n",
    "\n",
    "print('* Intercept: \\n', reg.intercept_ )\n",
    "print('* Coefficients: \\n', reg.coef_)\n",
    "\n",
    "print(\"* MSE: %.3f\"\n",
    "      % metrics.mean_squared_error(y_test, y_pred))\n",
    "\n",
    "print('* R Square: %.3f' % metrics.r2_score(y_test, y_pred))"
   ]
  },
  {
   "cell_type": "markdown",
   "metadata": {},
   "source": [
    "運用迴歸的方法來預測這個問題好像有點怪怪的，因為預測出來的結果並不會是0或是1，而是一個**介於0到1之間的值**， <br/>\n",
    "只能評斷MSE之類的標準。\n",
    "\n",
    "---\n",
    "接下來用分類的方法試試看好了。\n",
    "\n",
    "---"
   ]
  },
  {
   "cell_type": "markdown",
   "metadata": {},
   "source": [
    "### Random Forest"
   ]
  },
  {
   "cell_type": "code",
   "execution_count": 23,
   "metadata": {},
   "outputs": [],
   "source": [
    "from sklearn import ensemble, preprocessing"
   ]
  },
  {
   "cell_type": "code",
   "execution_count": 24,
   "metadata": {},
   "outputs": [
    {
     "name": "stdout",
     "output_type": "stream",
     "text": [
      "Accuracy: 0.9056114174505352\n"
     ]
    }
   ],
   "source": [
    "forest = ensemble.RandomForestClassifier(n_estimators = 100)\n",
    "forest_fit = forest.fit(x_train, y_train)\n",
    "\n",
    "y_pred = forest.predict(x_test)\n",
    "accuracy = metrics.accuracy_score(y_test, y_pred)\n",
    "print('Accuracy:', accuracy)"
   ]
  },
  {
   "cell_type": "markdown",
   "metadata": {},
   "source": [
    "上面是用直接用N=100去適配模型並用x_test預測y_test得到的準確率。\n",
    "\n",
    "接下來用**交叉驗證**的方式利用x_train去找出最佳的N（因為切太多會跑很久所以這邊就跑100~150間隔10）："
   ]
  },
  {
   "cell_type": "code",
   "execution_count": 25,
   "metadata": {},
   "outputs": [],
   "source": [
    "forest_range = np.arange(100, 151, 10)\n",
    "forest_scores = []\n",
    "\n",
    "for i in forest_range:\n",
    "    forest = ensemble.RandomForestClassifier(n_estimators = i)\n",
    "    scores = model_selection.cross_val_score(forest, x_train, y_train, cv=10, scoring='accuracy')\n",
    "    forest_scores.append(scores.mean())"
   ]
  },
  {
   "cell_type": "code",
   "execution_count": 26,
   "metadata": {},
   "outputs": [
    {
     "name": "stdout",
     "output_type": "stream",
     "text": [
      "Best Result:\n",
      "      N   CV Accu\n",
      "5  150  0.902348\n"
     ]
    }
   ],
   "source": [
    "forest_plot = pd.DataFrame()\n",
    "forest_plot['N'] = forest_range\n",
    "forest_plot['CV Accu'] = forest_scores\n",
    "forest_best = forest_plot[forest_plot['CV Accu'] == forest_plot['CV Accu'].max()]\n",
    "print('Best Result:\\n',forest_plot[forest_plot['CV Accu'] == forest_plot['CV Accu'].max()])"
   ]
  },
  {
   "cell_type": "markdown",
   "metadata": {},
   "source": [
    "將不同N用交叉驗證所跑出來的結果畫成圖表："
   ]
  },
  {
   "cell_type": "code",
   "execution_count": 27,
   "metadata": {},
   "outputs": [
    {
     "data": {
      "image/png": "[encoded data removed]",
      "text/plain": [
       "<Figure size 432x288 with 1 Axes>"
      ]
     },
     "metadata": {
      "needs_background": "light"
     },
     "output_type": "display_data"
    }
   ],
   "source": [
    "plt.plot(forest_plot['N'],forest_plot['CV Accu'])\n",
    "plt.xlabel('Value of N of RF')\n",
    "plt.ylabel('Cross-Validated Accuracy')\n",
    "plt.show()"
   ]
  },
  {
   "cell_type": "markdown",
   "metadata": {},
   "source": [
    "藉由交叉驗證，可以得到最高準確率的N，<br/>\n",
    "然後就用這個N去配適x_test，預測y_test看看準確率如何。 <br />\n",
    "因為發現每次跑出來忽高忽低的情形，所以就採用10次平均。"
   ]
  },
  {
   "cell_type": "code",
   "execution_count": 28,
   "metadata": {},
   "outputs": [
    {
     "name": "stdout",
     "output_type": "stream",
     "text": [
      "Mean Accuracy: 0.9077846253649042\n"
     ]
    }
   ],
   "source": [
    "accu_list = []\n",
    "for i in range(10):\n",
    "    forest = ensemble.RandomForestClassifier(n_estimators = int(forest_best['N']))\n",
    "    forest_fit = forest.fit(x_train, y_train)\n",
    "\n",
    "    y_pred = forest.predict(x_test)\n",
    "    accuracy = metrics.accuracy_score(y_test, y_pred)\n",
    "    accu_list.append(accuracy)\n",
    "    \n",
    "print('Mean Accuracy:', np.mean(accu_list))"
   ]
  },
  {
   "cell_type": "markdown",
   "metadata": {},
   "source": [
    "結果是比直接什麼也不管，用N=100的好一點點。"
   ]
  },
  {
   "cell_type": "markdown",
   "metadata": {},
   "source": [
    "---\n",
    "### Logistic Regression"
   ]
  },
  {
   "cell_type": "code",
   "execution_count": 29,
   "metadata": {},
   "outputs": [
    {
     "name": "stdout",
     "output_type": "stream",
     "text": [
      "[[ 1.44877699e-02 -4.15416357e-05  3.12839298e-02  1.89089519e-05\n",
      "   2.82801277e-03  6.82318788e-05 -1.41473760e+00 -1.85967996e+00\n",
      "   8.77572914e-02 -3.12559094e-01 -7.07085817e-02  4.23274525e-02\n",
      "   4.91953718e-04 -6.74741813e-03  1.73386261e-01 -4.35576622e-02\n",
      "  -6.26163859e-01 -1.07138252e+00  1.30810421e-01 -2.15372998e-01\n",
      "  -3.80855692e-01 -4.18076525e-01  6.16797978e-01  1.79421442e-01\n",
      "   8.40770893e-02 -2.74149943e-01 -6.22880629e-01 -8.47271758e-01]]\n",
      "[-1.74430233]\n"
     ]
    },
    {
     "name": "stderr",
     "output_type": "stream",
     "text": [
      "/usr/local/lib/python3.7/site-packages/sklearn/linear_model/logistic.py:433: FutureWarning: Default solver will be changed to 'lbfgs' in 0.22. Specify a solver to silence this warning.\n",
      "  FutureWarning)\n"
     ]
    }
   ],
   "source": [
    "lr = linear_model.LogisticRegression()\n",
    "lr.fit(x_train, y_train)\n",
    "\n",
    "print(lr.coef_)\n",
    "print(lr.intercept_ )"
   ]
  },
  {
   "cell_type": "code",
   "execution_count": 30,
   "metadata": {},
   "outputs": [
    {
     "name": "stdout",
     "output_type": "stream",
     "text": [
      "Accuracy: 0.8887447291599092\n"
     ]
    }
   ],
   "source": [
    "y_pred = lr.predict(x_test)\n",
    "accu = metrics.accuracy_score(y_test, y_pred)\n",
    "print('Accuracy:', accu)"
   ]
  },
  {
   "cell_type": "markdown",
   "metadata": {},
   "source": [
    "使用原始的logistic regression跑出來的結果如上，還算不錯， <br/>\n",
    "接下來利用他已經創好的交叉驗證方法（**LogisticRegressionCV**）試試。 <br/>\n",
    "在這邊如果沒有先把資料標準化會一直出現無法收斂的警告，所以先把資料標準化，並另存成x_train_std, x_test_std。"
   ]
  },
  {
   "cell_type": "code",
   "execution_count": 31,
   "metadata": {
    "scrolled": false
   },
   "outputs": [
    {
     "name": "stderr",
     "output_type": "stream",
     "text": [
      "/usr/local/lib/python3.7/site-packages/sklearn/preprocessing/data.py:645: DataConversionWarning: Data with input dtype uint8, int64, float64 were all converted to float64 by StandardScaler.\n",
      "  return self.partial_fit(X, y)\n",
      "/usr/local/lib/python3.7/site-packages/ipykernel_launcher.py:4: DataConversionWarning: Data with input dtype uint8, int64, float64 were all converted to float64 by StandardScaler.\n",
      "  after removing the cwd from sys.path.\n",
      "/usr/local/lib/python3.7/site-packages/ipykernel_launcher.py:5: DataConversionWarning: Data with input dtype uint8, int64, float64 were all converted to float64 by StandardScaler.\n",
      "  \"\"\"\n"
     ]
    }
   ],
   "source": [
    "scaler = preprocessing.StandardScaler()\n",
    "scaler.fit(x_train)\n",
    "\n",
    "x_train_std = scaler.transform(x_train)\n",
    "x_test_std = scaler.transform(x_test)"
   ]
  },
  {
   "cell_type": "code",
   "execution_count": 32,
   "metadata": {},
   "outputs": [
    {
     "name": "stdout",
     "output_type": "stream",
     "text": [
      "Accuracy: 0.8897178073305222\n"
     ]
    }
   ],
   "source": [
    "clf = linear_model.LogisticRegressionCV(cv=10, random_state=0,max_iter=100)\n",
    "clf.fit(x_train_std, y_train)\n",
    "\n",
    "y_pred = clf.predict(x_test_std)\n",
    "accu = metrics.accuracy_score(y_test, y_pred)\n",
    "print('Accuracy:', accu)"
   ]
  },
  {
   "cell_type": "markdown",
   "metadata": {},
   "source": [
    "在logistic regression這邊使用交叉驗證的結果會好一點點，但還是比剛剛用隨機森林的結果差。 <br/>\n",
    "但是在這邊因為沒有什麼參數需要調~~（不知道調什麼）~~的關係，所以做了交叉驗證沒有多大意義。"
   ]
  },
  {
   "cell_type": "markdown",
   "metadata": {},
   "source": [
    "---\n",
    "### SVM\n",
    "這邊使用scikit-learn的SVC"
   ]
  },
  {
   "cell_type": "code",
   "execution_count": 33,
   "metadata": {},
   "outputs": [],
   "source": [
    "from sklearn.svm import SVC"
   ]
  },
  {
   "cell_type": "markdown",
   "metadata": {},
   "source": [
    "先使用預設的設定：<br />\n",
    "SVC(C=1.0, kernel=’rbf’, degree=3, gamma=’auto_deprecated’, coef0=0.0, shrinking=True, probability=False, tol=0.001, cache_size=200, class_weight=None, verbose=False, max_iter=-1, decision_function_shape=’ovr’, random_state=None) 跑一次"
   ]
  },
  {
   "cell_type": "code",
   "execution_count": 34,
   "metadata": {},
   "outputs": [
    {
     "name": "stdout",
     "output_type": "stream",
     "text": [
      "Accuracy: 0.8978267920856309\n"
     ]
    }
   ],
   "source": [
    "svm = SVC()\n",
    "svm.fit(x_train_std, y_train)\n",
    "y_pred = svm.predict(x_test_std)\n",
    "\n",
    "accu = metrics.accuracy_score(y_test, y_pred)\n",
    "print('Accuracy:', accu)"
   ]
  },
  {
   "cell_type": "markdown",
   "metadata": {},
   "source": [
    "使用預設設定跑出來的準確率接近9，還算可以。 <br />\n",
    "接下來試試看不同penalty和不同kernel有什麼差別。 <br />\n",
    "使用交叉驗證的話需要跑比較久一點的時間，所以這邊先使用自己寫迴圈，每個penalty都只跑一次，沒有交叉："
   ]
  },
  {
   "cell_type": "code",
   "execution_count": 35,
   "metadata": {},
   "outputs": [],
   "source": [
    "penalty_range = np.linspace(start=0.1, stop=2.1, num=10)\n",
    "\n",
    "data_plt = pd.DataFrame(columns=('penalty', 'acc_train', 'acc_test'))\n",
    "count = 0\n",
    "\n",
    "for i in penalty_range:\n",
    "    svm = SVC(C=i, gamma='auto_deprecated')\n",
    "    svm.fit(x_train_std, y_train)\n",
    "\n",
    "    acc_train = metrics.accuracy_score(y_train, svm.predict(x_train_std))\n",
    "    acc_test = metrics.accuracy_score(y_test, svm.predict(x_test_std))\n",
    "    data_plt.loc[count] = [i, acc_train, acc_test]\n",
    "    count += 1"
   ]
  },
  {
   "cell_type": "code",
   "execution_count": 36,
   "metadata": {},
   "outputs": [
    {
     "name": "stdout",
     "output_type": "stream",
     "text": [
      "The Best Accuracy:\n",
      "    penalty  acc_train  acc_test\n",
      "5  1.211111   0.905483  0.899773\n"
     ]
    },
    {
     "data": {
      "image/png": "[encoded data removed]",
      "text/plain": [
       "<Figure size 432x288 with 1 Axes>"
      ]
     },
     "metadata": {
      "needs_background": "light"
     },
     "output_type": "display_data"
    }
   ],
   "source": [
    "plt.xlabel('Penalty')\n",
    "plt.ylabel('Accuracy')\n",
    "\n",
    "plt.plot(data_plt['penalty'], data_plt['acc_test'], label='Test')\n",
    "plt.plot(data_plt['penalty'], data_plt['acc_train'], label='Train')\n",
    "plt.legend()\n",
    "print('The Best Accuracy:')\n",
    "print(data_plt[data_plt['acc_test'] == data_plt['acc_test'].max()])"
   ]
  },
  {
   "cell_type": "markdown",
   "metadata": {},
   "source": [
    "因為沒有使用training set去交叉驗證出一個penalty再用testing set去跑的關係， <br />\n",
    "所以這邊每個penalty都直接去試training set和testing set。可以得到一個最高精準度的C。 <br />\n",
    "\n",
    "那因為上面預設的kernel函數是\"rbf\"，**接下來試試看\"linear\"和\"poly\"** <br />\n",
    "\n",
    "**Linear:**"
   ]
  },
  {
   "cell_type": "code",
   "execution_count": 37,
   "metadata": {},
   "outputs": [],
   "source": [
    "penalty_range = np.linspace(start=0.1, stop=2.1, num=10)\n",
    "\n",
    "data_plt = pd.DataFrame(columns=('penalty', 'acc_train', 'acc_test'))\n",
    "count = 0\n",
    "\n",
    "for i in penalty_range:\n",
    "    svm = SVC(C=i, kernel='linear', gamma='auto_deprecated')\n",
    "    svm.fit(x_train_std, y_train)\n",
    "\n",
    "    acc_train = metrics.accuracy_score(y_train, svm.predict(x_train_std))\n",
    "    acc_test = metrics.accuracy_score(y_test, svm.predict(x_test_std))\n",
    "    data_plt.loc[count] = [i, acc_train, acc_test]\n",
    "    count += 1"
   ]
  },
  {
   "cell_type": "code",
   "execution_count": 38,
   "metadata": {},
   "outputs": [
    {
     "name": "stdout",
     "output_type": "stream",
     "text": [
      "The Best Accuracy:\n",
      "    penalty  acc_train  acc_test\n",
      "0  0.100000   0.883962  0.891015\n",
      "1  0.322222   0.883962  0.891015\n",
      "2  0.544444   0.883962  0.891015\n",
      "3  0.766667   0.883962  0.891015\n",
      "7  1.655556   0.883962  0.891015\n"
     ]
    },
    {
     "data": {
      "image/png": "[encoded data removed]",
      "text/plain": [
       "<Figure size 432x288 with 1 Axes>"
      ]
     },
     "metadata": {
      "needs_background": "light"
     },
     "output_type": "display_data"
    }
   ],
   "source": [
    "plt.xlabel('Penalty')\n",
    "plt.ylabel('Accuracy')\n",
    "\n",
    "plt.plot(data_plt['penalty'], data_plt['acc_test'], label='Test')\n",
    "plt.plot(data_plt['penalty'], data_plt['acc_train'], label='Train')\n",
    "plt.legend()\n",
    "print('The Best Accuracy:')\n",
    "print(data_plt[data_plt['acc_test'] == data_plt['acc_test'].max()])"
   ]
  },
  {
   "cell_type": "markdown",
   "metadata": {},
   "source": [
    "上圖中的test精準度都大於train的精準度，蠻奇怪的。"
   ]
  },
  {
   "cell_type": "markdown",
   "metadata": {},
   "source": [
    "**Poly:**"
   ]
  },
  {
   "cell_type": "code",
   "execution_count": 39,
   "metadata": {},
   "outputs": [],
   "source": [
    "penalty_range = np.linspace(start=0.1, stop=2.1, num=10)\n",
    "\n",
    "data_plt = pd.DataFrame(columns=('penalty', 'acc_train', 'acc_test'))\n",
    "count = 0\n",
    "\n",
    "for i in penalty_range:\n",
    "    svm = SVC(C=i, kernel='poly', gamma='auto_deprecated')\n",
    "    svm.fit(x_train_std, y_train)\n",
    "\n",
    "    acc_train = metrics.accuracy_score(y_train, svm.predict(x_train_std))\n",
    "    acc_test = metrics.accuracy_score(y_test, svm.predict(x_test_std))\n",
    "    data_plt.loc[count] = [i, acc_train, acc_test]\n",
    "    count += 1"
   ]
  },
  {
   "cell_type": "code",
   "execution_count": 40,
   "metadata": {},
   "outputs": [
    {
     "name": "stdout",
     "output_type": "stream",
     "text": [
      "The Best Accuracy:\n",
      "    penalty  acc_train  acc_test\n",
      "8  1.877778    0.90797  0.891664\n"
     ]
    },
    {
     "data": {
      "image/png": "[encoded data removed]",
      "text/plain": [
       "<Figure size 432x288 with 1 Axes>"
      ]
     },
     "metadata": {
      "needs_background": "light"
     },
     "output_type": "display_data"
    }
   ],
   "source": [
    "plt.xlabel('Penalty')\n",
    "plt.ylabel('Accuracy')\n",
    "\n",
    "plt.plot(data_plt['penalty'], data_plt['acc_test'], label='Test')\n",
    "plt.plot(data_plt['penalty'], data_plt['acc_train'], label='Train')\n",
    "plt.legend()\n",
    "print('The Best Accuracy:')\n",
    "print(data_plt[data_plt['acc_test'] == data_plt['acc_test'].max()])"
   ]
  },
  {
   "cell_type": "markdown",
   "metadata": {},
   "source": [
    "看起來都差不多呢。 <br />\n",
    "不過使用\"rbf\"的準確率能夠超過9成，比起上面的logistic regression好一點了。"
   ]
  },
  {
   "cell_type": "markdown",
   "metadata": {},
   "source": [
    "---\n",
    "### Neural Network"
   ]
  },
  {
   "cell_type": "code",
   "execution_count": 41,
   "metadata": {},
   "outputs": [
    {
     "name": "stderr",
     "output_type": "stream",
     "text": [
      "Using TensorFlow backend.\n"
     ]
    }
   ],
   "source": [
    "from keras import models, layers, optimizers, regularizers\n",
    "from sklearn import preprocessing\n",
    "import tensorflow as tf\n",
    "from tqdm import tqdm"
   ]
  },
  {
   "cell_type": "markdown",
   "metadata": {},
   "source": [
    "先設定權重："
   ]
  },
  {
   "cell_type": "code",
   "execution_count": 42,
   "metadata": {},
   "outputs": [
    {
     "name": "stdout",
     "output_type": "stream",
     "text": [
      "0    7786\n",
      "1    1461\n",
      "Name: Revenue, dtype: int64\n"
     ]
    }
   ],
   "source": [
    "print(y_train.value_counts())"
   ]
  },
  {
   "cell_type": "code",
   "execution_count": 43,
   "metadata": {},
   "outputs": [],
   "source": [
    "class_weight = {\n",
    "    0: 7786/9247,\n",
    "    1: 1461/9247\n",
    "}"
   ]
  },
  {
   "cell_type": "markdown",
   "metadata": {},
   "source": [
    "建立神經網路架構："
   ]
  },
  {
   "cell_type": "code",
   "execution_count": 44,
   "metadata": {},
   "outputs": [],
   "source": [
    "def build_model(hidden_units, activation, learning_rate):\n",
    "    model = models.Sequential()\n",
    "    model.add(layers.Dense(input_dim=28,\n",
    "                           units=hidden_units, \n",
    "                           activation=activation,\n",
    "                           kernel_regularizer=regularizers.l2(l2)))\n",
    "    model.add(layers.Dense(input_dim=hidden_units,\n",
    "                           units=1,\n",
    "                           activation='sigmoid',\n",
    "                           kernel_regularizer=regularizers.l2(l2)))\n",
    "    model.compile(loss='binary_crossentropy',\n",
    "                  optimizer=optimizers.Adam(lr=learning_rate),\n",
    "                  metrics=['accuracy'])\n",
    "    return model"
   ]
  },
  {
   "cell_type": "code",
   "execution_count": 45,
   "metadata": {},
   "outputs": [],
   "source": [
    "def train_and_evaluate(model, x_train, y_train, x_test, y_test, n=5):\n",
    "    train_accs = []\n",
    "    test_accs = []\n",
    "    with tqdm(total=n) as progress_bar:\n",
    "        for _ in range(n):\n",
    "            model.fit(\n",
    "                x_train, \n",
    "                y_train, \n",
    "                epochs=epochs, \n",
    "                batch_size=batch_size, \n",
    "                class_weight=class_weight, \n",
    "                verbose=False)\n",
    "            train_accs.append(model.evaluate(x_train, y_train, batch_size=32, verbose=False)[1])\n",
    "            test_accs.append(model.evaluate(x_test, y_test, batch_size=32, verbose=False)[1])\n",
    "            progress_bar.update()\n",
    "    print('Avgerage Training Accuracy: %s' % np.average(train_accs))\n",
    "    print('Avgerage Testing Accuracy: %s' % np.average(test_accs))\n",
    "    return train_accs, test_accs"
   ]
  },
  {
   "cell_type": "code",
   "execution_count": 46,
   "metadata": {},
   "outputs": [
    {
     "name": "stdout",
     "output_type": "stream",
     "text": [
      "WARNING:tensorflow:From /usr/local/lib/python3.7/site-packages/tensorflow/python/framework/op_def_library.py:263: colocate_with (from tensorflow.python.framework.ops) is deprecated and will be removed in a future version.\n",
      "Instructions for updating:\n",
      "Colocations handled automatically by placer.\n"
     ]
    },
    {
     "name": "stderr",
     "output_type": "stream",
     "text": [
      "\r",
      "  0%|          | 0/5 [00:00<?, ?it/s]"
     ]
    },
    {
     "name": "stdout",
     "output_type": "stream",
     "text": [
      "WARNING:tensorflow:From /usr/local/lib/python3.7/site-packages/tensorflow/python/ops/math_ops.py:3066: to_int32 (from tensorflow.python.ops.math_ops) is deprecated and will be removed in a future version.\n",
      "Instructions for updating:\n",
      "Use tf.cast instead.\n"
     ]
    },
    {
     "name": "stderr",
     "output_type": "stream",
     "text": [
      "100%|██████████| 5/5 [01:49<00:00, 21.79s/it]"
     ]
    },
    {
     "name": "stdout",
     "output_type": "stream",
     "text": [
      "Avgerage Training Accuracy: 0.8420028117420584\n",
      "Avgerage Testing Accuracy: 0.8550113525786571\n"
     ]
    },
    {
     "name": "stderr",
     "output_type": "stream",
     "text": [
      "\n"
     ]
    }
   ],
   "source": [
    "hidden_units = 10\n",
    "activation = 'relu'\n",
    "l2 = 0.01\n",
    "learning_rate = 0.05\n",
    "epochs = 50\n",
    "batch_size = 32\n",
    "\n",
    "model = build_model(hidden_units, activation, learning_rate)\n",
    "\n",
    "accu = train_and_evaluate(model, x_train_std, y_train, x_test_std, y_test, n=5)\n",
    "    \n",
    "acc_train = np.mean(accu[0])\n",
    "acc_test = np.mean(accu[1])"
   ]
  },
  {
   "cell_type": "markdown",
   "metadata": {},
   "source": [
    "看起來神經網路的準確率反而不如上面其他分類器， <br />\n",
    "而且做出來也比較不好解釋，調參數也不知道在幹嘛，為什麼調（我是說我自己）， <br />\n",
    "所以在這邊我就做一次就好，大概知道一下這題用神經網路做的準確率。\n"
   ]
  },
  {
   "cell_type": "markdown",
   "metadata": {},
   "source": [
    "---\n",
    "---\n",
    "## 4. 使用Lasso挑選變數\n",
    "\n",
    "\n",
    "上面的方法都使用全部的變數進去fit，但是有些變數可能對於模型的影響不大，需要被剔除以增加精準度， <br />\n",
    "這時可以使用跟Ridge Regression很像的Lasso， <br />\n",
    "這兩者都可以達到縮小變數的效果，不同的是，Lasso會將有些變數縮小至0，達成挑選變數的效果。"
   ]
  },
  {
   "cell_type": "code",
   "execution_count": 47,
   "metadata": {},
   "outputs": [
    {
     "name": "stdout",
     "output_type": "stream",
     "text": [
      "Best Alpha: 0.10566375212056409\n"
     ]
    },
    {
     "name": "stderr",
     "output_type": "stream",
     "text": [
      "/usr/local/lib/python3.7/site-packages/sklearn/model_selection/_split.py:2053: FutureWarning: You should specify a value for 'cv' instead of relying on the default value. The default value will change from 3 to 5 in version 0.22.\n",
      "  warnings.warn(CV_WARNING, FutureWarning)\n"
     ]
    }
   ],
   "source": [
    "alpha_list = np.linspace(start=0, stop=0.5, num=20)\n",
    "\n",
    "lassocv = linear_model.LassoCV()\n",
    "lassocv.fit(x_train, y_train)\n",
    "\n",
    "best_alpha = lassocv.alpha_\n",
    "print('Best Alpha:', lassocv.alpha_ )"
   ]
  },
  {
   "cell_type": "markdown",
   "metadata": {},
   "source": [
    "先用Cross Validation挑出最佳的alpha值。 <br />\n",
    "再用這個alpha去跑lasso："
   ]
  },
  {
   "cell_type": "code",
   "execution_count": 48,
   "metadata": {},
   "outputs": [
    {
     "name": "stdout",
     "output_type": "stream",
     "text": [
      "* Intercept: \n",
      " 0.06791508145092247\n",
      "* Coefficients: \n",
      " [ 0.00000000e+00  3.83316369e-05  0.00000000e+00  1.53987954e-05\n",
      "  4.23031077e-04  1.44843799e-05 -0.00000000e+00 -0.00000000e+00\n",
      "  9.43384548e-03 -0.00000000e+00 -0.00000000e+00  0.00000000e+00\n",
      " -0.00000000e+00 -0.00000000e+00  0.00000000e+00  0.00000000e+00\n",
      " -0.00000000e+00 -0.00000000e+00  0.00000000e+00 -0.00000000e+00\n",
      " -0.00000000e+00 -0.00000000e+00  0.00000000e+00  0.00000000e+00\n",
      "  0.00000000e+00  0.00000000e+00 -0.00000000e+00 -0.00000000e+00]\n",
      "* MSE: 0.094\n",
      "* R Square: 0.242\n"
     ]
    }
   ],
   "source": [
    "lasso = linear_model.Lasso(alpha=best_alpha)\n",
    "lasso.fit(x_train, y_train)\n",
    "\n",
    "y_pred = lasso.predict(x_test)\n",
    "\n",
    "print('* Intercept: \\n', lasso.intercept_ )\n",
    "print('* Coefficients: \\n', lasso.coef_)\n",
    "\n",
    "print(\"* MSE: %.3f\"\n",
    "      % metrics.mean_squared_error(y_test, y_pred))\n",
    "\n",
    "print('* R Square: %.3f' % metrics.r2_score(y_test, y_pred))"
   ]
  },
  {
   "cell_type": "markdown",
   "metadata": {},
   "source": [
    "由上面的R Square看來只有0.242不是很高， <br />\n",
    "但是這邊要做的是變數挑選，重點是有哪些變數被挑掉。 <br />\n",
    "可以看到在變數那邊有很多的變數**被縮小成0了**，這就是接下來要拿掉的變數。"
   ]
  },
  {
   "cell_type": "code",
   "execution_count": 49,
   "metadata": {},
   "outputs": [],
   "source": [
    "count=0\n",
    "zero_list = []\n",
    "for i in lasso.coef_:\n",
    "    if i == 0:\n",
    "        zero_list.append(count)\n",
    "    count += 1"
   ]
  },
  {
   "cell_type": "code",
   "execution_count": 50,
   "metadata": {},
   "outputs": [
    {
     "name": "stderr",
     "output_type": "stream",
     "text": [
      "/usr/local/lib/python3.7/site-packages/pandas/core/indexes/base.py:3969: FutureWarning: Using a non-tuple sequence for multidimensional indexing is deprecated; use `arr[tuple(seq)]` instead of `arr[seq]`. In the future this will be interpreted as an array index, `arr[np.array(seq)]`, which will result either in an error or a different result.\n",
      "  result = getitem(key)\n"
     ]
    },
    {
     "data": {
      "text/html": [
       "<div>\n",
       "<style scoped>\n",
       "    .dataframe tbody tr th:only-of-type {\n",
       "        vertical-align: middle;\n",
       "    }\n",
       "\n",
       "    .dataframe tbody tr th {\n",
       "        vertical-align: top;\n",
       "    }\n",
       "\n",
       "    .dataframe thead th {\n",
       "        text-align: right;\n",
       "    }\n",
       "</style>\n",
       "<table border=\"1\" class=\"dataframe\">\n",
       "  <thead>\n",
       "    <tr style=\"text-align: right;\">\n",
       "      <th></th>\n",
       "      <th>Administrative_Duration</th>\n",
       "      <th>Informational_Duration</th>\n",
       "      <th>ProductRelated</th>\n",
       "      <th>ProductRelated_Duration</th>\n",
       "      <th>PageValues</th>\n",
       "    </tr>\n",
       "  </thead>\n",
       "  <tbody>\n",
       "    <tr>\n",
       "      <th>6986</th>\n",
       "      <td>0.000000</td>\n",
       "      <td>0.0</td>\n",
       "      <td>63</td>\n",
       "      <td>2593.808333</td>\n",
       "      <td>0.000000</td>\n",
       "    </tr>\n",
       "    <tr>\n",
       "      <th>7438</th>\n",
       "      <td>0.000000</td>\n",
       "      <td>114.8</td>\n",
       "      <td>22</td>\n",
       "      <td>583.093333</td>\n",
       "      <td>2.749717</td>\n",
       "    </tr>\n",
       "    <tr>\n",
       "      <th>9981</th>\n",
       "      <td>261.161905</td>\n",
       "      <td>0.0</td>\n",
       "      <td>58</td>\n",
       "      <td>1992.717308</td>\n",
       "      <td>0.000000</td>\n",
       "    </tr>\n",
       "  </tbody>\n",
       "</table>\n",
       "</div>"
      ],
      "text/plain": [
       "      Administrative_Duration  Informational_Duration  ProductRelated  \\\n",
       "6986                 0.000000                     0.0              63   \n",
       "7438                 0.000000                   114.8              22   \n",
       "9981               261.161905                     0.0              58   \n",
       "\n",
       "      ProductRelated_Duration  PageValues  \n",
       "6986              2593.808333    0.000000  \n",
       "7438               583.093333    2.749717  \n",
       "9981              1992.717308    0.000000  "
      ]
     },
     "execution_count": 50,
     "metadata": {},
     "output_type": "execute_result"
    }
   ],
   "source": [
    "x_train_sub = x_train\n",
    "x_train_sub = x_train_sub.drop(x_train_sub.columns[[zero_list]], axis=1)\n",
    "x_test_sub = x_test\n",
    "x_test_sub = x_test_sub.drop(x_test_sub.columns[[zero_list]], axis=1)\n",
    "x_train_sub.head(3)"
   ]
  },
  {
   "cell_type": "markdown",
   "metadata": {},
   "source": [
    "把x_train和x_test都創建一個sub的變數，以防之後還會用到原本的。<br />\n",
    "可以看到x_train_sub裡只剩下剛剛Lasso挑選過後倖存的變數們。\n",
    "\n",
    "---\n",
    "\n",
    "接下來用這些變數來試試看剛剛跑出最高準確率的Random Forest和SVM：\n",
    "### Random Forest"
   ]
  },
  {
   "cell_type": "code",
   "execution_count": 51,
   "metadata": {},
   "outputs": [
    {
     "name": "stdout",
     "output_type": "stream",
     "text": [
      "Accuracy: 0.8845280570872527\n"
     ]
    }
   ],
   "source": [
    "forest = ensemble.RandomForestClassifier(n_estimators = 150)\n",
    "forest_fit = forest.fit(x_train_sub, y_train)\n",
    "\n",
    "y_pred = forest.predict(x_test_sub)\n",
    "accuracy = metrics.accuracy_score(y_test, y_pred)\n",
    "print('Accuracy:', accuracy)"
   ]
  },
  {
   "cell_type": "markdown",
   "metadata": {},
   "source": [
    "結果**準確率反而比較低** ＱＱ"
   ]
  },
  {
   "cell_type": "markdown",
   "metadata": {},
   "source": [
    "### SVM"
   ]
  },
  {
   "cell_type": "code",
   "execution_count": 52,
   "metadata": {},
   "outputs": [
    {
     "name": "stderr",
     "output_type": "stream",
     "text": [
      "/usr/local/lib/python3.7/site-packages/sklearn/preprocessing/data.py:645: DataConversionWarning: Data with input dtype int64, float64 were all converted to float64 by StandardScaler.\n",
      "  return self.partial_fit(X, y)\n",
      "/usr/local/lib/python3.7/site-packages/ipykernel_launcher.py:4: DataConversionWarning: Data with input dtype int64, float64 were all converted to float64 by StandardScaler.\n",
      "  after removing the cwd from sys.path.\n",
      "/usr/local/lib/python3.7/site-packages/ipykernel_launcher.py:5: DataConversionWarning: Data with input dtype int64, float64 were all converted to float64 by StandardScaler.\n",
      "  \"\"\"\n"
     ]
    }
   ],
   "source": [
    "scaler = preprocessing.StandardScaler()\n",
    "scaler.fit(x_train_sub)\n",
    "\n",
    "x_train_sub = scaler.transform(x_train_sub)\n",
    "x_test_sub = scaler.transform(x_test_sub)"
   ]
  },
  {
   "cell_type": "code",
   "execution_count": 53,
   "metadata": {},
   "outputs": [
    {
     "name": "stdout",
     "output_type": "stream",
     "text": [
      "Accuracy: 0.8936101200129744\n"
     ]
    }
   ],
   "source": [
    "svm = SVC()\n",
    "svm.fit(x_train_sub, y_train)\n",
    "y_pred = svm.predict(x_test_sub)\n",
    "\n",
    "accu = metrics.accuracy_score(y_test, y_pred)\n",
    "print('Accuracy:', accu)"
   ]
  },
  {
   "cell_type": "code",
   "execution_count": 54,
   "metadata": {},
   "outputs": [],
   "source": [
    "penalty_range = np.linspace(start=0.1, stop=2.1, num=20)\n",
    "\n",
    "data_plt = pd.DataFrame(columns=('penalty', 'acc_train', 'acc_test'))\n",
    "count = 0\n",
    "\n",
    "for i in penalty_range:\n",
    "    svm = SVC(C=i, gamma='auto_deprecated')\n",
    "    svm.fit(x_train_sub, y_train)\n",
    "\n",
    "    acc_train = metrics.accuracy_score(y_train, svm.predict(x_train_sub))\n",
    "    acc_test = metrics.accuracy_score(y_test, svm.predict(x_test_sub))\n",
    "    data_plt.loc[count] = [i, acc_train, acc_test]\n",
    "    count += 1"
   ]
  },
  {
   "cell_type": "code",
   "execution_count": 55,
   "metadata": {},
   "outputs": [
    {
     "name": "stdout",
     "output_type": "stream",
     "text": [
      "The Best Accuracy:\n",
      "    penalty  acc_train  acc_test\n",
      "3  0.415789   0.894344  0.895881\n",
      "4  0.521053   0.895426  0.895881\n"
     ]
    },
    {
     "data": {
      "image/png": "[encoded data removed]",
      "text/plain": [
       "<Figure size 432x288 with 1 Axes>"
      ]
     },
     "metadata": {
      "needs_background": "light"
     },
     "output_type": "display_data"
    }
   ],
   "source": [
    "plt.xlabel('Penalty')\n",
    "plt.ylabel('Accuracy')\n",
    "\n",
    "plt.plot(data_plt['penalty'], data_plt['acc_test'], label='Test')\n",
    "plt.plot(data_plt['penalty'], data_plt['acc_train'], label='Train')\n",
    "plt.legend()\n",
    "print('The Best Accuracy:')\n",
    "print(data_plt[data_plt['acc_test'] == data_plt['acc_test'].max()])"
   ]
  },
  {
   "cell_type": "markdown",
   "metadata": {},
   "source": [
    "看來使用subset跑出來的SVM準確率也是低一點點。 <br/>"
   ]
  },
  {
   "cell_type": "markdown",
   "metadata": {},
   "source": [
    "---\n",
    "---\n",
    "## 5. 總結"
   ]
  },
  {
   "cell_type": "markdown",
   "metadata": {},
   "source": [
    "1. 前面6個變數的分佈太廣，但是不知道該不該處理掉，因為好像不太算離群值，而且最後Lasso挑選過後還留下4個，所以這邊的處理可能是關鍵。\n",
    "1. 線性模型的R Square不算太高（但其實0.2也不錯了），但這題最後結果為0/1分類，不太適合線性模型。\n",
    "1. 感覺後面幾個類別變數對於整個模型沒什麼影響，後面拿掉對於精確率的影響不大。\n",
    "1. 使用Lasso挑選變數後，做出來的模型準確率反而低一點點。\n",
    "1. 使用全部變數的Random Forest準確率最高，能夠破0.9，複雜的Neural Network反而最低。"
   ]
  },
  {
   "cell_type": "code",
   "execution_count": 56,
   "metadata": {},
   "outputs": [
    {
     "name": "stdout",
     "output_type": "stream",
     "text": [
      "Total Time: 427.294229 sec\n"
     ]
    }
   ],
   "source": [
    "end_time = time.time()\n",
    "print(\"Total Time: %f sec\" % (end_time - start_time))"
   ]
  }
 ],
 "metadata": {
  "kernelspec": {
   "display_name": "Python 3",
   "language": "python",
   "name": "python3"
  },
  "language_info": {
   "codemirror_mode": {
    "name": "ipython",
    "version": 3
   },
   "file_extension": ".py",
   "mimetype": "text/x-python",
   "name": "python",
   "nbconvert_exporter": "python",
   "pygments_lexer": "ipython3",
   "version": "3.7.3"
  }
 },
 "nbformat": 4,
 "nbformat_minor": 2
}
